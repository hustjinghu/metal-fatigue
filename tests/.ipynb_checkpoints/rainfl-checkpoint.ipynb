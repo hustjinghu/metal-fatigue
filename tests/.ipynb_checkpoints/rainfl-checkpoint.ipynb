{
 "cells": [
  {
   "cell_type": "code",
   "execution_count": 1,
   "metadata": {
    "collapsed": false
   },
   "outputs": [],
   "source": [
    "import sys\n",
    "sys.path.append(\"D:\\\\alexa\\\\Documents\\\\metal-fatigue\")"
   ]
  },
  {
   "cell_type": "code",
   "execution_count": 47,
   "metadata": {
    "collapsed": false,
    "scrolled": false
   },
   "outputs": [
    {
     "data": {
      "text/plain": [
       "<module 'metal_fatigue.rainfl' from 'D:\\\\alexa\\\\Documents\\\\metal-fatigue\\\\metal_fatigue\\\\rainfl.py'>"
      ]
     },
     "execution_count": 47,
     "metadata": {},
     "output_type": "execute_result"
    }
   ],
   "source": [
    "import numpy as np\n",
    "from metal_fatigue import rainfl\n",
    "import imp\n",
    "imp.reload(rainfl)"
   ]
  },
  {
   "cell_type": "markdown",
   "metadata": {},
   "source": [
    "## rfm class"
   ]
  },
  {
   "cell_type": "code",
   "execution_count": 14,
   "metadata": {
    "collapsed": false
   },
   "outputs": [
    {
     "name": "stdout",
     "output_type": "stream",
     "text": [
      "[[  3.00000000e+00   1.00000000e+00   0.00000000e+00]\n",
      " [  2.00000000e+00   3.00000000e+00   5.00000000e+00]\n",
      " [  2.00000000e+06   1.00000000e+00   3.01200000e+03]]\n",
      "15.0\n",
      "1.0\n"
     ]
    }
   ],
   "source": [
    "#create counts matrix\n",
    "coun = np.array([[3,1,0],[2,3.,5],[2e6,1,3012]])\n",
    "\n",
    "#create some ybinsize and xbinsize for the rfm\n",
    "xbins = 15.\n",
    "ybins = 1.\n",
    "\n",
    "testrfm = rainfl.rfm(xbins,ybins,coun)\n",
    "\n",
    "print(testrfm.counts)\n",
    "print(testrfm.xbinsize)\n",
    "print(testrfm.ybinsize)"
   ]
  },
  {
   "cell_type": "markdown",
   "metadata": {},
   "source": [
    "## consistency_check function"
   ]
  },
  {
   "cell_type": "code",
   "execution_count": 30,
   "metadata": {
    "collapsed": false
   },
   "outputs": [],
   "source": [
    "a = rainfl.rfm(3.,12,np.array([[1,2,3],[4,1,2]]))\n",
    "b = rainfl.rfm(3,12.,np.array([[1,2,3],[4,1,2]]))\n",
    "rainfl.consistency_check(a,b)"
   ]
  },
  {
   "cell_type": "markdown",
   "metadata": {},
   "source": [
    "## add function"
   ]
  },
  {
   "cell_type": "code",
   "execution_count": 49,
   "metadata": {
    "collapsed": false
   },
   "outputs": [
    {
     "name": "stdout",
     "output_type": "stream",
     "text": [
      "[[ 2.   2.   3. ]\n",
      " [ 4.   1.   4.5]]\n",
      "[[ 2.   2.   3. ]\n",
      " [ 4.   1.   4.5]]\n"
     ]
    }
   ],
   "source": [
    "ca = np.array([[1,0,0],[0,1,2]])\n",
    "cb = np.array([[1,2,3],[4,0,2.5]])\n",
    "a = rainfl.rfm(3.,12,ca)\n",
    "b = rainfl.rfm(3,12.,cb)\n",
    "\n",
    "print(rainfl.add(a,b).counts)\n",
    "print(ca+cb)"
   ]
  }
 ],
 "metadata": {
  "kernelspec": {
   "display_name": "Python [py36]",
   "language": "python",
   "name": "Python [py36]"
  },
  "language_info": {
   "codemirror_mode": {
    "name": "ipython",
    "version": 3
   },
   "file_extension": ".py",
   "mimetype": "text/x-python",
   "name": "python",
   "nbconvert_exporter": "python",
   "pygments_lexer": "ipython3",
   "version": "3.6.2"
  }
 },
 "nbformat": 4,
 "nbformat_minor": 0
}
