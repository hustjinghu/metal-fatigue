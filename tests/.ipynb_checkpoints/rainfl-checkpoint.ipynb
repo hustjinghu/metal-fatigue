{
 "cells": [
  {
   "cell_type": "code",
   "execution_count": 8,
   "metadata": {
    "collapsed": false,
    "scrolled": true
   },
   "outputs": [],
   "source": [
    "import numpy as np\n",
    "from metal_fatigue import rainfl"
   ]
  },
  {
   "cell_type": "markdown",
   "metadata": {},
   "source": [
    "## rfm Object"
   ]
  },
  {
   "cell_type": "code",
   "execution_count": 11,
   "metadata": {
    "collapsed": false
   },
   "outputs": [
    {
     "name": "stdout",
     "output_type": "stream",
     "text": [
      "[[  3.00000000e+00   1.00000000e+00   0.00000000e+00]\n",
      " [  2.00000000e+00   3.00000000e+00   5.00000000e+00]\n",
      " [  2.00000000e+06   1.00000000e+00   3.01200000e+03]]\n",
      "15.0\n",
      "1.0\n"
     ]
    }
   ],
   "source": [
    "#create counts matrix\n",
    "coun = np.array([[3,1,0],[2,3.,5],[2e6,1,3012]])\n",
    "\n",
    "#create some ybinsize and xbinsize for the rfm\n",
    "xbins = 15.\n",
    "ybins = 1.\n",
    "\n",
    "testrfm = rainfl.rfm(xbins,ybins,coun)\n",
    "\n",
    "print(testrfm.counts)\n",
    "print(testrfm.xbinsize)\n",
    "print(testrfm.ybinsize)"
   ]
  }
 ],
 "metadata": {
  "kernelspec": {
   "display_name": "Python [py36]",
   "language": "python",
   "name": "Python [py36]"
  },
  "language_info": {
   "codemirror_mode": {
    "name": "ipython",
    "version": 3
   },
   "file_extension": ".py",
   "mimetype": "text/x-python",
   "name": "python",
   "nbconvert_exporter": "python",
   "pygments_lexer": "ipython3",
   "version": "3.6.2"
  }
 },
 "nbformat": 4,
 "nbformat_minor": 0
}
